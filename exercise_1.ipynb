{
 "cells": [
  {
   "cell_type": "code",
   "execution_count": 1,
   "id": "c68b00e5-a1e5-4c84-abbc-7512adf9c20c",
   "metadata": {
    "tags": []
   },
   "outputs": [],
   "source": [
    "# Importing standard Qiskit libraries\n",
    "from qiskit import QuantumCircuit, transpile\n",
    "from qiskit.tools.jupyter import *\n",
    "from qiskit.visualization import *\n",
    "from ibm_quantum_widgets import *\n",
    "\n",
    "# qiskit-ibmq-provider has been deprecated.\n",
    "# Please see the Migration Guides in https://ibm.biz/provider_migration_guide for more detail.\n",
    "from qiskit_ibm_runtime import QiskitRuntimeService, Sampler, Estimator, Session, Options\n",
    "\n",
    "# Loading your IBM Quantum account(s)\n",
    "service = QiskitRuntimeService(channel=\"ibm_quantum\")\n",
    "\n",
    "# Invoke a primitive. For more details see https://qiskit.org/documentation/partners/qiskit_ibm_runtime/tutorials.html\n",
    "# result = Sampler(\"ibmq_qasm_simulator\").run(circuits).result()"
   ]
  },
  {
   "cell_type": "code",
   "execution_count": 3,
   "id": "6785c756-f474-437a-8716-ca31ee2d29e2",
   "metadata": {
    "tags": []
   },
   "outputs": [],
   "source": [
    "#Python libraries required for various operations\n",
    "import numpy as np\n",
    "\n",
    "#Qiskit packages used for building a quantum circuit\n",
    "from qiskit import QuantumRegister, ClassicalRegister\n",
    "from qiskit import QuantumCircuit\n",
    "\n",
    "#Qiskit packages used to execute and simulate the quantum circuit\n",
    "from qiskit import execute, Aer\n",
    "\n",
    "#Qiskit packages used to visualize and analyze results\n",
    "from qiskit.visualization import plot_histogram"
   ]
  },
  {
   "cell_type": "code",
   "execution_count": 4,
   "id": "eb00aa0e-32b3-40cb-92b1-581c307c9af3",
   "metadata": {
    "tags": []
   },
   "outputs": [
    {
     "data": {
      "image/png": "[encoded data removed]",
      "text/plain": [
       "<Figure size 352.675x200.667 with 1 Axes>"
      ]
     },
     "execution_count": 4,
     "metadata": {},
     "output_type": "execute_result"
    }
   ],
   "source": [
    "#Create quantum register to store qubit\n",
    "qreg_q = QuantumRegister(1, 'q')\n",
    "\n",
    "#Create classical register to store the results\n",
    "creg_c = ClassicalRegister(1, 'c')\n",
    "\n",
    "#Initialize quantum circuit\n",
    "circuit = QuantumCircuit(qreg_q, creg_c)\n",
    "\n",
    "#Initialize all qubits to |0>\n",
    "circuit.reset(qreg_q)\n",
    "\n",
    "#Apply the Hadamard gate on the qubit\n",
    "circuit.h(qreg_q)\n",
    "\n",
    "#Apply measurement\n",
    "circuit.measure(qreg_q, creg_c)\n",
    "\n",
    "#Visualize the constructed circuit\n",
    "circuit.draw()"
   ]
  },
  {
   "cell_type": "markdown",
   "id": "0eaaec6c-3355-4cfb-a011-423f5c110823",
   "metadata": {},
   "source": [
    " Circuit execution and experimentation.\n",
    " "
   ]
  },
  {
   "cell_type": "code",
   "execution_count": 5,
   "id": "bea2a0d3-7a7b-4128-90b9-5558ae5f1fe8",
   "metadata": {
    "tags": []
   },
   "outputs": [
    {
     "name": "stdout",
     "output_type": "stream",
     "text": [
      "\n",
      " Output counts: {'1': 506, '0': 494}\n"
     ]
    }
   ],
   "source": [
    "# Use Aer's qasm_simulator\n",
    "simulator = Aer.get_backend('qasm_simulator')\n",
    "\n",
    "# Execute the circuit on the qasm simulator\n",
    "job = execute(circuit, simulator, shots=1000)\n",
    "\n",
    "result = job.result()\n",
    "\n",
    "# Returns counts\n",
    "counts = result.get_counts(circuit)\n",
    "print(\"\\n Output counts:\",counts)"
   ]
  },
  {
   "cell_type": "code",
   "execution_count": 6,
   "id": "b5038743-f01d-4d69-83d9-21dac6cc1699",
   "metadata": {
    "tags": []
   },
   "outputs": [
    {
     "data": {
      "image/png": "[encoded data removed]",
      "text/plain": [
       "<Figure size 700x500 with 1 Axes>"
      ]
     },
     "execution_count": 6,
     "metadata": {},
     "output_type": "execute_result"
    }
   ],
   "source": [
    "# Plot a histogram\n",
    "plot_histogram(counts)"
   ]
  }
 ],
 "metadata": {
  "kernelspec": {
   "display_name": "Python 3 (ipykernel)",
   "language": "python",
   "name": "python3"
  },
  "language_info": {
   "codemirror_mode": {
    "name": "ipython",
    "version": 3
   },
   "file_extension": ".py",
   "mimetype": "text/x-python",
   "name": "python",
   "nbconvert_exporter": "python",
   "pygments_lexer": "ipython3",
   "version": "3.10.8"
  },
  "widgets": {
   "application/vnd.jupyter.widget-state+json": {
    "state": {
     "020d9818b1a44c28915a0aadac4c35fe": {
      "model_module": "@jupyter-widgets/base",
      "model_module_version": "2.0.0",
      "model_name": "LayoutModel",
      "state": {
       "margin": "0px 0px 10px 0px"
      }
     },
     "19b677a151ba48ffbf63a85f00ffc659": {
      "model_module": "@jupyter-widgets/controls",
      "model_module_version": "2.0.0",
      "model_name": "HTMLModel",
      "state": {
       "layout": "IPY_MODEL_5dbeb72ef3f84661b766b77e5e41fc72",
       "style": "IPY_MODEL_4671092a75db4bbd8e6365cb5015b866",
       "value": "<h5>Backend</h5>"
      }
     },
     "1a0406e9f3a948dca90a8632fe65d2e9": {
      "model_module": "@jupyter-widgets/controls",
      "model_module_version": "2.0.0",
      "model_name": "HTMLModel",
      "state": {
       "layout": "IPY_MODEL_ae9487479b3a487e8173bc55006195fb",
       "style": "IPY_MODEL_7369c13257c44b439cb6c15390e2b629",
       "value": "<h5>Message</h5>"
      }
     },
     "1e7b603acf98412990992e2d1100eb0a": {
      "model_module": "@jupyter-widgets/base",
      "model_module_version": "2.0.0",
      "model_name": "LayoutModel",
      "state": {
       "width": "190px"
      }
     },
     "2dc31bfca057403aa8c388bff21bada8": {
      "model_module": "@jupyter-widgets/controls",
      "model_module_version": "2.0.0",
      "model_name": "HTMLStyleModel",
      "state": {
       "description_width": "",
       "font_size": null,
       "text_color": null
      }
     },
     "38b5d70282be41aba1aee0543ac03c4a": {
      "model_module": "@jupyter-widgets/base",
      "model_module_version": "2.0.0",
      "model_name": "LayoutModel",
      "state": {
       "width": "95px"
      }
     },
     "3ffd04ed27de4c259a62ec26ba41d3e6": {
      "model_module": "@jupyter-widgets/base",
      "model_module_version": "2.0.0",
      "model_name": "LayoutModel",
      "state": {
       "width": "70px"
      }
     },
     "4671092a75db4bbd8e6365cb5015b866": {
      "model_module": "@jupyter-widgets/controls",
      "model_module_version": "2.0.0",
      "model_name": "HTMLStyleModel",
      "state": {
       "description_width": "",
       "font_size": null,
       "text_color": null
      }
     },
     "56cbe0a003a34490bf3be0bb389ff6ff": {
      "model_module": "@jupyter-widgets/controls",
      "model_module_version": "2.0.0",
      "model_name": "HBoxModel",
      "state": {
       "children": [
        "IPY_MODEL_f5cb0aba34964c789e7691702ceb42bd",
        "IPY_MODEL_19b677a151ba48ffbf63a85f00ffc659",
        "IPY_MODEL_840f5624a2144c979bbd2c1952f4d8f6",
        "IPY_MODEL_c108a9622b6949c485370136bd77704b",
        "IPY_MODEL_1a0406e9f3a948dca90a8632fe65d2e9"
       ],
       "layout": "IPY_MODEL_af0852c2387e405e95b3ccf7a4581293"
      }
     },
     "5dbeb72ef3f84661b766b77e5e41fc72": {
      "model_module": "@jupyter-widgets/base",
      "model_module_version": "2.0.0",
      "model_name": "LayoutModel",
      "state": {
       "width": "145px"
      }
     },
     "7369c13257c44b439cb6c15390e2b629": {
      "model_module": "@jupyter-widgets/controls",
      "model_module_version": "2.0.0",
      "model_name": "HTMLStyleModel",
      "state": {
       "description_width": "",
       "font_size": null,
       "text_color": null
      }
     },
     "840f5624a2144c979bbd2c1952f4d8f6": {
      "model_module": "@jupyter-widgets/controls",
      "model_module_version": "2.0.0",
      "model_name": "HTMLModel",
      "state": {
       "layout": "IPY_MODEL_38b5d70282be41aba1aee0543ac03c4a",
       "style": "IPY_MODEL_bb4e7b6fd13d40fe9b15c2f4646d5a14",
       "value": "<h5>Status</h5>"
      }
     },
     "9d9855a2bba04de4afb2e72c8a1b80b8": {
      "model_module": "@jupyter-widgets/controls",
      "model_module_version": "2.0.0",
      "model_name": "HTMLStyleModel",
      "state": {
       "description_width": "",
       "font_size": null,
       "text_color": null
      }
     },
     "9f72409c589d42bfa2a653cb4f105845": {
      "model_module": "@jupyter-widgets/controls",
      "model_module_version": "2.0.0",
      "model_name": "ButtonModel",
      "state": {
       "button_style": "primary",
       "description": "Clear",
       "layout": "IPY_MODEL_d5cd1fb6bd23493cb77661cc64ddbed5",
       "style": "IPY_MODEL_f63ca8e7fe7149c8b1a096ae6d972e98",
       "tooltip": null
      }
     },
     "ae9487479b3a487e8173bc55006195fb": {
      "model_module": "@jupyter-widgets/base",
      "model_module_version": "2.0.0",
      "model_name": "LayoutModel",
      "state": {}
     },
     "af0852c2387e405e95b3ccf7a4581293": {
      "model_module": "@jupyter-widgets/base",
      "model_module_version": "2.0.0",
      "model_name": "LayoutModel",
      "state": {
       "margin": "0px 0px 0px 37px",
       "width": "600px"
      }
     },
     "bb4e7b6fd13d40fe9b15c2f4646d5a14": {
      "model_module": "@jupyter-widgets/controls",
      "model_module_version": "2.0.0",
      "model_name": "HTMLStyleModel",
      "state": {
       "description_width": "",
       "font_size": null,
       "text_color": null
      }
     },
     "c108a9622b6949c485370136bd77704b": {
      "model_module": "@jupyter-widgets/controls",
      "model_module_version": "2.0.0",
      "model_name": "HTMLModel",
      "state": {
       "layout": "IPY_MODEL_3ffd04ed27de4c259a62ec26ba41d3e6",
       "style": "IPY_MODEL_2dc31bfca057403aa8c388bff21bada8",
       "value": "<h5>Queue</h5>"
      }
     },
     "cec58f44725444a6802ca1b3a21567c0": {
      "model_module": "@jupyter-widgets/base",
      "model_module_version": "2.0.0",
      "model_name": "LayoutModel",
      "state": {
       "grid_template_areas": "\n                                       \". . . . right \"\n                                        ",
       "grid_template_columns": "20% 20% 20% 20% 20%",
       "width": "100%"
      }
     },
     "d10ce866fa7c4d4192bf3f00305f6bd7": {
      "model_module": "@jupyter-widgets/controls",
      "model_module_version": "2.0.0",
      "model_name": "HTMLModel",
      "state": {
       "layout": "IPY_MODEL_020d9818b1a44c28915a0aadac4c35fe",
       "style": "IPY_MODEL_daaf6d1e4f89414d961e71983fbed31a",
       "value": "<p style='font-family: IBM Plex Sans, Arial, Helvetica, sans-serif; font-size: 20px; font-weight: medium;'>Circuit Properties</p>"
      }
     },
     "d5cd1fb6bd23493cb77661cc64ddbed5": {
      "model_module": "@jupyter-widgets/base",
      "model_module_version": "2.0.0",
      "model_name": "LayoutModel",
      "state": {
       "grid_area": "right",
       "padding": "0px 0px 0px 0px",
       "width": "70px"
      }
     },
     "daaf6d1e4f89414d961e71983fbed31a": {
      "model_module": "@jupyter-widgets/controls",
      "model_module_version": "2.0.0",
      "model_name": "HTMLStyleModel",
      "state": {
       "description_width": "",
       "font_size": null,
       "text_color": null
      }
     },
     "e79074fa77d2499782f730f3afe36533": {
      "model_module": "@jupyter-widgets/controls",
      "model_module_version": "2.0.0",
      "model_name": "GridBoxModel",
      "state": {
       "children": [
        "IPY_MODEL_9f72409c589d42bfa2a653cb4f105845"
       ],
       "layout": "IPY_MODEL_cec58f44725444a6802ca1b3a21567c0"
      }
     },
     "f5cb0aba34964c789e7691702ceb42bd": {
      "model_module": "@jupyter-widgets/controls",
      "model_module_version": "2.0.0",
      "model_name": "HTMLModel",
      "state": {
       "layout": "IPY_MODEL_1e7b603acf98412990992e2d1100eb0a",
       "style": "IPY_MODEL_9d9855a2bba04de4afb2e72c8a1b80b8",
       "value": "<h5>Job ID</h5>"
      }
     },
     "f63ca8e7fe7149c8b1a096ae6d972e98": {
      "model_module": "@jupyter-widgets/controls",
      "model_module_version": "2.0.0",
      "model_name": "ButtonStyleModel",
      "state": {
       "font_family": null,
       "font_size": null,
       "font_style": null,
       "font_variant": null,
       "font_weight": null,
       "text_color": null,
       "text_decoration": null
      }
     }
    },
    "version_major": 2,
    "version_minor": 0
   }
  }
 },
 "nbformat": 4,
 "nbformat_minor": 5
}
